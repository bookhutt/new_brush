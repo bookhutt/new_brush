{
 "cells": [
  {
   "cell_type": "code",
   "execution_count": 5,
   "metadata": {},
   "outputs": [],
   "source": [
    "from PIL import Image\n",
    "import os"
   ]
  },
  {
   "cell_type": "code",
   "execution_count": 5,
   "metadata": {},
   "outputs": [],
   "source": [
    "doggo1.save('doggo.png')"
   ]
  },
  {
   "cell_type": "code",
   "execution_count": 16,
   "metadata": {
    "scrolled": true
   },
   "outputs": [],
   "source": [
    "# saves all pictures in content as png files in the png folder\n",
    "for pic in os.listdir('content'):\n",
    "    if pic.endswith('.jpg'):\n",
    "        i =Image.open(f'content\\{pic}')\n",
    "        fn, fext = os.path.splitext(pic)\n",
    "        i.save(f'pngs/{fn}.png')"
   ]
  },
  {
   "cell_type": "code",
   "execution_count": 17,
   "metadata": {},
   "outputs": [],
   "source": [
    "# saves all pictures in content as 300 by 300 thumbnails files in the 300 folder\n",
    "size_300 = (300,300)\n",
    "for pic in os.listdir('content'):\n",
    "    if pic.endswith('.jpg'):\n",
    "        i =Image.open(f'content\\{pic}')\n",
    "        i.thumbnail(size_300)\n",
    "        fn, fext = os.path.splitext(pic)\n",
    "        i.save(f'300/{fn}.{fext}')"
   ]
  }
 ],
 "metadata": {
  "kernelspec": {
   "display_name": "Python 3",
   "language": "python",
   "name": "python3"
  },
  "language_info": {
   "codemirror_mode": {
    "name": "ipython",
    "version": 3
   },
   "file_extension": ".py",
   "mimetype": "text/x-python",
   "name": "python",
   "nbconvert_exporter": "python",
   "pygments_lexer": "ipython3",
   "version": "3.7.3"
  }
 },
 "nbformat": 4,
 "nbformat_minor": 2
}
